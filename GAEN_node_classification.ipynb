{
 "cells": [
  {
   "cell_type": "code",
   "execution_count": 1,
   "metadata": {},
   "outputs": [
    {
     "name": "stdout",
     "output_type": "stream",
     "text": [
      "time_steps= 40\n",
      "Loaded context pairs from pkl file directly\n",
      "Loaded dynamic node patterns from pkl file directly\n",
      "p_covss.size: 40\n",
      "num_features: 242\n",
      "# train nodes 242\n",
      "Epoch: 0001 reg_loss= 0.03358 train_loss= 27.15560\n",
      "Epoch: 0026 reg_loss= 0.03335 train_loss= 26.52068\n",
      "Epoch: 0051 reg_loss= 0.03323 train_loss= 24.72969\n",
      "Epoch: 0076 reg_loss= 0.03326 train_loss= 15.87851\n",
      "Epoch: 0101 reg_loss= 0.03342 train_loss= 14.16391\n",
      "Epoch: 0126 reg_loss= 0.03369 train_loss= 12.68718\n",
      "Epoch: 0151 reg_loss= 0.03400 train_loss= 12.01123\n",
      "Epoch: 0176 reg_loss= 0.03438 train_loss= 11.68607\n",
      "Epoch: 0201 reg_loss= 0.03479 train_loss= 11.16710\n",
      "Epoch: 0226 reg_loss= 0.03525 train_loss= 10.19276\n",
      "Epoch: 0251 reg_loss= 0.03574 train_loss= 9.98335\n",
      "Epoch: 0276 reg_loss= 0.03626 train_loss= 9.62648\n",
      "Epoch: 0301 reg_loss= 0.03680 train_loss= 9.52197\n",
      "Epoch: 0326 reg_loss= 0.03735 train_loss= 9.48413\n",
      "Epoch: 0351 reg_loss= 0.03792 train_loss= 9.50119\n",
      "Epoch: 0376 reg_loss= 0.03851 train_loss= 9.10355\n",
      "Epoch: 0401 reg_loss= 0.03911 train_loss= 8.81700\n",
      "Epoch: 0426 reg_loss= 0.03974 train_loss= 8.86342\n",
      "Epoch: 0451 reg_loss= 0.04037 train_loss= 9.12069\n",
      "Epoch: 0476 reg_loss= 0.04100 train_loss= 8.17316\n",
      "Epoch: 0501 reg_loss= 0.04166 train_loss= 7.79683\n",
      "Epoch: 0526 reg_loss= 0.04233 train_loss= 8.01800\n",
      "Epoch: 0551 reg_loss= 0.04300 train_loss= 7.96606\n",
      "Epoch: 0576 reg_loss= 0.04368 train_loss= 7.75073\n",
      "Epoch: 0601 reg_loss= 0.04438 train_loss= 7.79189\n",
      "Epoch: 0626 reg_loss= 0.04509 train_loss= 7.78247\n",
      "Epoch: 0651 reg_loss= 0.04579 train_loss= 7.60218\n",
      "Epoch: 0676 reg_loss= 0.04650 train_loss= 7.64930\n",
      "Epoch: 0701 reg_loss= 0.04723 train_loss= 7.19733\n",
      "Epoch: 0726 reg_loss= 0.04795 train_loss= 7.74642\n",
      "Epoch: 0751 reg_loss= 0.04866 train_loss= 7.08609\n",
      "Epoch: 0776 reg_loss= 0.04938 train_loss= 6.98028\n",
      "Epoch: 0801 reg_loss= 0.05012 train_loss= 7.11187\n",
      "Epoch: 0826 reg_loss= 0.05086 train_loss= 7.03577\n",
      "Epoch: 0851 reg_loss= 0.05160 train_loss= 6.85270\n",
      "Epoch: 0876 reg_loss= 0.05235 train_loss= 6.91385\n",
      "Epoch: 0901 reg_loss= 0.05309 train_loss= 7.04118\n",
      "Epoch: 0926 reg_loss= 0.05384 train_loss= 6.68639\n",
      "Epoch: 0951 reg_loss= 0.05460 train_loss= 6.85347\n",
      "Epoch: 0976 reg_loss= 0.05537 train_loss= 6.81229\n",
      "node classification acc [train_ratios=0.3, 0.7]: [0.6463636363636364, 0.6730769230769231]\n"
     ]
    }
   ],
   "source": [
    "# node classification on Primary School\n",
    "from runs import GAEN"
   ]
  },
  {
   "cell_type": "code",
   "execution_count": null,
   "metadata": {},
   "outputs": [],
   "source": []
  }
 ],
 "metadata": {
  "kernelspec": {
   "display_name": "Python 3",
   "language": "python",
   "name": "python3"
  },
  "language_info": {
   "codemirror_mode": {
    "name": "ipython",
    "version": 3
   },
   "file_extension": ".py",
   "mimetype": "text/x-python",
   "name": "python",
   "nbconvert_exporter": "python",
   "pygments_lexer": "ipython3",
   "version": "3.6.10"
  }
 },
 "nbformat": 4,
 "nbformat_minor": 2
}
