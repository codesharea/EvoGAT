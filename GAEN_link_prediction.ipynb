{
 "cells": [
  {
   "cell_type": "code",
   "execution_count": 1,
   "metadata": {
    "scrolled": false
   },
   "outputs": [
    {
     "name": "stdout",
     "output_type": "stream",
     "text": [
      "time_steps= 10\n",
      "Loaded eval data\n",
      "Loaded context pairs from pkl file directly\n",
      "Loaded dynamic node patterns from pkl file directly\n",
      "p_covss.size: 10\n",
      "num_features: 125\n",
      "# train nodes 125\n",
      "Epoch: 0001 reg_loss= 2.53525 train_loss= 14.10750\n",
      "Epoch: 0026 reg_loss= 2.41910 train_loss= 13.94292\n",
      "Epoch: 0051 reg_loss= 2.30809 train_loss= 13.74102\n",
      "Epoch: 0076 reg_loss= 2.20214 train_loss= 13.51411\n",
      "Epoch: 0101 reg_loss= 2.10142 train_loss= 13.17603\n",
      "Epoch: 0126 reg_loss= 2.00612 train_loss= 12.82374\n",
      "Epoch: 0151 reg_loss= 1.91598 train_loss= 12.55437\n",
      "Epoch: 0176 reg_loss= 1.83089 train_loss= 12.33228\n",
      "Epoch: 0201 reg_loss= 1.75027 train_loss= 12.10667\n",
      "Epoch: 0226 reg_loss= 1.67359 train_loss= 12.18131\n",
      "Epoch: 0251 reg_loss= 1.60057 train_loss= 12.00274\n",
      "Epoch: 0276 reg_loss= 1.53070 train_loss= 11.98411\n",
      "Epoch: 0301 reg_loss= 1.46390 train_loss= 11.90513\n",
      "Epoch: 0326 reg_loss= 1.40003 train_loss= 11.73506\n",
      "Epoch: 0351 reg_loss= 1.33883 train_loss= 11.38571\n",
      "Epoch: 0376 reg_loss= 1.28046 train_loss= 11.52036\n",
      "Epoch: 0401 reg_loss= 1.22456 train_loss= 11.43785\n",
      "Epoch: 0426 reg_loss= 1.17108 train_loss= 11.60955\n",
      "Epoch: 0451 reg_loss= 1.11980 train_loss= 11.32944\n",
      "Epoch: 0476 reg_loss= 1.07099 train_loss= 11.32848\n",
      "Epoch: 0501 reg_loss= 1.02405 train_loss= 11.40219\n",
      "Epoch: 0526 reg_loss= 0.97923 train_loss= 11.03249\n",
      "Epoch: 0551 reg_loss= 0.93619 train_loss= 10.88945\n",
      "Epoch: 0576 reg_loss= 0.89487 train_loss= 11.07353\n",
      "Epoch: 0601 reg_loss= 0.85567 train_loss= 11.02316\n",
      "Epoch: 0626 reg_loss= 0.81819 train_loss= 10.80577\n",
      "Epoch: 0651 reg_loss= 0.78214 train_loss= 10.60293\n",
      "Epoch: 0676 reg_loss= 0.74759 train_loss= 10.75585\n",
      "Epoch: 0701 reg_loss= 0.71463 train_loss= 10.72528\n",
      "Epoch: 0726 reg_loss= 0.68306 train_loss= 10.71663\n",
      "Epoch: 0751 reg_loss= 0.65286 train_loss= 10.95743\n",
      "Epoch: 0776 reg_loss= 0.62403 train_loss= 10.46301\n",
      "Epoch: 0801 reg_loss= 0.59637 train_loss= 10.53479\n",
      "Epoch: 0826 reg_loss= 0.56988 train_loss= 10.32807\n",
      "Epoch: 0851 reg_loss= 0.54469 train_loss= 10.74478\n",
      "Epoch: 0876 reg_loss= 0.52074 train_loss= 10.73370\n",
      "Epoch: 0901 reg_loss= 0.49761 train_loss= 11.09498\n",
      "Epoch: 0926 reg_loss= 0.47554 train_loss= 10.23886\n",
      "Epoch: 0951 reg_loss= 0.45474 train_loss= 10.50441\n",
      "Epoch: 0976 reg_loss= 0.43481 train_loss= 10.67550\n",
      "val_Acc= 0.90847 val_AUC= 0.96712 test_Acc= 0.81086 test_AUC= 0.91686\n"
     ]
    }
   ],
   "source": [
    "# link prediction task on Enron\n",
    "from runs import GAEN"
   ]
  }
 ],
 "metadata": {
  "kernelspec": {
   "display_name": "Python 3",
   "language": "python",
   "name": "python3"
  },
  "language_info": {
   "codemirror_mode": {
    "name": "ipython",
    "version": 3
   },
   "file_extension": ".py",
   "mimetype": "text/x-python",
   "name": "python",
   "nbconvert_exporter": "python",
   "pygments_lexer": "ipython3",
   "version": "3.6.10"
  }
 },
 "nbformat": 4,
 "nbformat_minor": 2
}
